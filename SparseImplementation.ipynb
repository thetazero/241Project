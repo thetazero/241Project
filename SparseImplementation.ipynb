{
 "cells": [
  {
   "cell_type": "code",
   "execution_count": 40,
   "id": "786a85a2",
   "metadata": {},
   "outputs": [],
   "source": [
    "# https://www.geeksforgeeks.org/sparse-matrix-representations-set-3-csr/\n",
    "struct MyCSR\n",
    "    m::Int64                  # Number of rows\n",
    "    n::Int64                  # Number of columns\n",
    "    rowptr::Vector{Int64}     # Row j is in rowptr[j]:(rowptr[j+1]-1)\n",
    "    colval::Vector{Int64}     # Col indices of stored values\n",
    "    nzval::Vector{Float64}    # Stored values, typically nonzeros\n",
    "    function MyCSR(m::Int64, n::Int64)\n",
    "        rowptr=zeros(Int64, m+1)\n",
    "        colval=Vector{Int64}()\n",
    "        nzval=Vector{Float64}()\n",
    "        return new(m, n,rowptr,colval,nzval)\n",
    "    end\n",
    "    MyCSR(m,n,rowptr,colval,nzval)=new(m,n,rowptr,colval, nzval)\n",
    "end\n",
    "# CSR is good! remember me!!!!!!\n",
    "# Base.getindex(::MyCSR, i::Int64, j::Int64) = 3\n",
    "\n"
   ]
  },
  {
   "cell_type": "code",
   "execution_count": 66,
   "id": "b9809bf9",
   "metadata": {},
   "outputs": [
    {
     "data": {
      "text/plain": [
       "Densify (generic function with 1 method)"
      ]
     },
     "execution_count": 66,
     "metadata": {},
     "output_type": "execute_result"
    }
   ],
   "source": [
    "function Densify(a::MyCSR)\n",
    "    M=zeros(Float64, a.m, a.n)\n",
    "    for row in 1:a.m\n",
    "        for i in a.rowptr[row]:a.rowptr[row+1]-1\n",
    "            c=a.colval[i]\n",
    "            M[row, c]=a.nzval[i]\n",
    "        end\n",
    "    end\n",
    "    return M\n",
    "end"
   ]
  },
  {
   "cell_type": "code",
   "execution_count": 86,
   "id": "f6e1ef7f",
   "metadata": {},
   "outputs": [
    {
     "data": {
      "text/plain": [
       "adjoint (generic function with 1 method)"
      ]
     },
     "execution_count": 86,
     "metadata": {},
     "output_type": "execute_result"
    }
   ],
   "source": [
    "function adjoint(m::MyCSR)\n",
    "    return m\n",
    "end"
   ]
  },
  {
   "cell_type": "code",
   "execution_count": 33,
   "id": "88b936f9",
   "metadata": {},
   "outputs": [
    {
     "data": {
      "text/plain": [
       "MyCSR(3, 5, [0, 0, 0, 0], Int64[], Float64[])"
      ]
     },
     "execution_count": 33,
     "metadata": {},
     "output_type": "execute_result"
    }
   ],
   "source": [
    "A=MyCSR(3,5)"
   ]
  },
  {
   "cell_type": "code",
   "execution_count": null,
   "id": "c1e7527e",
   "metadata": {},
   "outputs": [],
   "source": []
  },
  {
   "cell_type": "code",
   "execution_count": 34,
   "id": "30733c79",
   "metadata": {},
   "outputs": [],
   "source": [
    "using LinearAlgebra;\n",
    "using Latexify;"
   ]
  },
  {
   "cell_type": "code",
   "execution_count": 35,
   "id": "e806eddf",
   "metadata": {},
   "outputs": [
    {
     "data": {
      "text/plain": [
       "Dict{String, Array{String, N} where N} with 4 entries:\n",
       "  \"c\" => [\"a\", \"d\"]\n",
       "  \"b\" => [\"a\"]\n",
       "  \"a\" => [\"b\", \"c\"]\n",
       "  \"d\" => [\"b\"]"
      ]
     },
     "execution_count": 35,
     "metadata": {},
     "output_type": "execute_result"
    }
   ],
   "source": [
    "dummy = Dict{String, Array{String}}(\"a\"=>[\"b\",\"c\"], \"b\"=>[\"a\"], \"c\"=>[\"a\",\"d\"], \"d\"=>[\"b\"])"
   ]
  },
  {
   "cell_type": "code",
   "execution_count": 36,
   "id": "e1314adf",
   "metadata": {},
   "outputs": [
    {
     "data": {
      "text/plain": [
       "Dict{String, Array{String, N} where N} with 4 entries:\n",
       "  \"c\" => [\"a\", \"d\"]\n",
       "  \"b\" => [\"a\"]\n",
       "  \"a\" => [\"b\", \"c\"]\n",
       "  \"d\" => [\"b\"]"
      ]
     },
     "execution_count": 36,
     "metadata": {},
     "output_type": "execute_result"
    }
   ],
   "source": [
    "input=dummy"
   ]
  },
  {
   "cell_type": "code",
   "execution_count": 72,
   "id": "ed9f91d2",
   "metadata": {},
   "outputs": [
    {
     "data": {
      "text/plain": [
       "naive_get_matrix (generic function with 1 method)"
      ]
     },
     "execution_count": 72,
     "metadata": {},
     "output_type": "execute_result"
    }
   ],
   "source": [
    "damping=0.85\n",
    "function naive_get_matrix(exitLinks)\n",
    "    n=length(dummy)\n",
    "    encodeNames=String[]\n",
    "    decodeNames=Dict{String, Int64}()\n",
    "    i=1\n",
    "    for (key, value) in exitLinks\n",
    "        push!(encodeNames, key)\n",
    "        push!(decodeNames, key=>i)\n",
    "        i+=1\n",
    "    end\n",
    "    \n",
    "    \n",
    "    \n",
    "    \n",
    "    rowptr=ones(Int64, n+1)\n",
    "    colval=Vector{Int64}()\n",
    "    nzval=Vector{Float64}()\n",
    "    i=2\n",
    "    for (from, list) in exitLinks \n",
    "        f=decodeNames[from]\n",
    "        l=length(list)\n",
    "        rowptr[i]=rowptr[i-1]+l\n",
    "        for j in 1:l \n",
    "            t=decodeNames[list[j]]\n",
    "            append!(nzval, 1/l)\n",
    "            append!(colval, t)\n",
    "        end\n",
    "        i+=1\n",
    "    end\n",
    "    return (MyCSR(n,n, rowptr, colval, nzval), decodeNames)\n",
    "end"
   ]
  },
  {
   "cell_type": "code",
   "execution_count": 73,
   "id": "190ba239",
   "metadata": {},
   "outputs": [
    {
     "data": {
      "text/plain": [
       "(MyCSR(4, 4, [1, 3, 4, 6, 7], [3, 4, 3, 2, 1, 2], [0.5, 0.5, 1.0, 0.5, 0.5, 1.0]), Dict(\"c\" => 1, \"b\" => 2, \"a\" => 3, \"d\" => 4))"
      ]
     },
     "execution_count": 73,
     "metadata": {},
     "output_type": "execute_result"
    }
   ],
   "source": [
    "(S, dec)=naive_get_matrix(input)"
   ]
  },
  {
   "cell_type": "code",
   "execution_count": 75,
   "id": "cec48a91",
   "metadata": {},
   "outputs": [
    {
     "data": {
      "text/plain": [
       "Dict{String, Int64} with 4 entries:\n",
       "  \"c\" => 1\n",
       "  \"b\" => 2\n",
       "  \"a\" => 3\n",
       "  \"d\" => 4"
      ]
     },
     "execution_count": 75,
     "metadata": {},
     "output_type": "execute_result"
    }
   ],
   "source": [
    "dec"
   ]
  },
  {
   "cell_type": "code",
   "execution_count": 80,
   "id": "8a80ecff",
   "metadata": {},
   "outputs": [
    {
     "data": {
      "text/plain": [
       "4×4 Matrix{Float64}:\n",
       " 0.0  0.0  0.5  0.5\n",
       " 0.0  0.0  1.0  0.0\n",
       " 0.5  0.5  0.0  0.0\n",
       " 0.0  1.0  0.0  0.0"
      ]
     },
     "execution_count": 80,
     "metadata": {},
     "output_type": "execute_result"
    }
   ],
   "source": [
    "M=Densify(S)"
   ]
  },
  {
   "cell_type": "code",
   "execution_count": 90,
   "id": "de347b5a",
   "metadata": {},
   "outputs": [
    {
     "data": {
      "text/plain": [
       "MyCSR(4, 4, [1, 3, 4, 6, 7], [3, 4, 3, 2, 1, 2], [0.5, 0.5, 1.0, 0.5, 0.5, 1.0])"
      ]
     },
     "execution_count": 90,
     "metadata": {},
     "output_type": "execute_result"
    }
   ],
   "source": [
    "adjoint(S)"
   ]
  },
  {
   "cell_type": "code",
   "execution_count": null,
   "id": "fc1029f0",
   "metadata": {},
   "outputs": [],
   "source": []
  }
 ],
 "metadata": {
  "kernelspec": {
   "display_name": "Julia 1.6.2",
   "language": "julia",
   "name": "julia-1.6"
  },
  "language_info": {
   "file_extension": ".jl",
   "mimetype": "application/julia",
   "name": "julia",
   "version": "1.6.2"
  }
 },
 "nbformat": 4,
 "nbformat_minor": 5
}
