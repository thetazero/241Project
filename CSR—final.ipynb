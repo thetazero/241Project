{
 "cells": [
  {
   "cell_type": "code",
   "execution_count": 153,
   "id": "26956775",
   "metadata": {},
   "outputs": [],
   "source": [
    "# https://www.geeksforgeeks.org/sparse-matrix-representations-set-3-csr/\n",
    "struct MyCSR\n",
    "    m::Int64                  # Number of rows\n",
    "    n::Int64                  # Number of columns\n",
    "    rowptr::Vector{Int64}     # Row j is in rowptr[j]:(rowptr[j+1]-1)\n",
    "    colval::Vector{Int64}     # Col indices of stored values\n",
    "    nzval::Vector{Float64}    # Stored values, typically nonzeros\n",
    "    function MyCSR(m::Int64, n::Int64)\n",
    "        rowptr=zeros(Int64, m+1)\n",
    "        colval=Vector{Int64}()\n",
    "        nzval=Vector{Float64}()\n",
    "        return new(m, n,rowptr,colval,nzval)\n",
    "    end\n",
    "    MyCSR(m,n,rowptr,colval,nzval)=new(m,n,rowptr,colval, nzval)\n",
    "end\n",
    "# CSR is good! remember me!!!!!!\n",
    "# Base.getindex(::MyCSR, i::Int64, j::Int64) = 3\n",
    "\n"
   ]
  },
  {
   "cell_type": "code",
   "execution_count": 154,
   "id": "695101c6",
   "metadata": {},
   "outputs": [
    {
     "data": {
      "text/plain": [
       "* (generic function with 329 methods)"
      ]
     },
     "execution_count": 154,
     "metadata": {},
     "output_type": "execute_result"
    }
   ],
   "source": [
    "import Base.*\n",
    "function *(M::MyCSR, v::Vector{Float64})\n",
    "    nw=zeros(length(v))\n",
    "    for row in 1:M.m\n",
    "        for i in M.rowptr[row]:M.rowptr[row+1]-1\n",
    "            col=M.colval[i]\n",
    "            nw[row]+=v[col]*M.nzval[i]\n",
    "        end\n",
    "    end\n",
    "    return nw\n",
    "end "
   ]
  },
  {
   "cell_type": "code",
   "execution_count": 155,
   "id": "8957ea9b",
   "metadata": {},
   "outputs": [
    {
     "data": {
      "text/plain": [
       "Densify (generic function with 1 method)"
      ]
     },
     "execution_count": 155,
     "metadata": {},
     "output_type": "execute_result"
    }
   ],
   "source": [
    "function Densify(a::MyCSR)\n",
    "    M=zeros(Float64, a.m, a.n)\n",
    "    for row in 1:a.m\n",
    "        for i in a.rowptr[row]:a.rowptr[row+1]-1\n",
    "            c=a.colval[i]\n",
    "            M[row, c]=a.nzval[i]\n",
    "        end\n",
    "    end\n",
    "    return M\n",
    "end"
   ]
  },
  {
   "cell_type": "code",
   "execution_count": 156,
   "id": "460c28ac",
   "metadata": {},
   "outputs": [],
   "source": [
    "using LinearAlgebra;\n",
    "using Latexify;"
   ]
  },
  {
   "cell_type": "code",
   "execution_count": 157,
   "id": "7d80024c",
   "metadata": {},
   "outputs": [
    {
     "data": {
      "text/plain": [
       "Dict{String, Array{String, N} where N} with 4 entries:\n",
       "  \"c\" => [\"a\", \"d\"]\n",
       "  \"b\" => [\"a\"]\n",
       "  \"a\" => [\"b\", \"c\"]\n",
       "  \"d\" => [\"b\"]"
      ]
     },
     "execution_count": 157,
     "metadata": {},
     "output_type": "execute_result"
    }
   ],
   "source": [
    "dummy = Dict{String, Array{String}}(\"a\"=>[\"b\",\"c\"], \"b\"=>[\"a\"], \"c\"=>[\"a\",\"d\"], \"d\"=>[\"b\"])"
   ]
  },
  {
   "cell_type": "code",
   "execution_count": 158,
   "id": "3551c25b",
   "metadata": {},
   "outputs": [
    {
     "data": {
      "text/plain": [
       "Dict{String, Array{String, N} where N} with 4 entries:\n",
       "  \"c\" => [\"a\", \"d\"]\n",
       "  \"b\" => [\"a\"]\n",
       "  \"a\" => [\"b\", \"c\"]\n",
       "  \"d\" => [\"b\"]"
      ]
     },
     "execution_count": 158,
     "metadata": {},
     "output_type": "execute_result"
    }
   ],
   "source": [
    "input=dummy"
   ]
  },
  {
   "cell_type": "code",
   "execution_count": 168,
   "id": "acbf9645",
   "metadata": {},
   "outputs": [
    {
     "data": {
      "text/plain": [
       "get_matrix (generic function with 1 method)"
      ]
     },
     "execution_count": 168,
     "metadata": {},
     "output_type": "execute_result"
    }
   ],
   "source": [
    "damping=0.85\n",
    "function get_matrix(exitLinks)\n",
    "    n=length(dummy)\n",
    "    exitCount=Dict{Int64, Int64}()\n",
    "    encodeNames=String[]\n",
    "    decodeNames=Dict{String, Int64}()\n",
    "    i=1\n",
    "    for (key, list) in exitLinks\n",
    "        push!(encodeNames, key)\n",
    "        push!(decodeNames, key=>i)\n",
    "        push!(exitCount, i=>length(list))\n",
    "        i+=1\n",
    "    end\n",
    "    \n",
    "    \n",
    "    enter=Vector{Vector{Int64}}()\n",
    "    for _ in 1:n\n",
    "        push!(enter, Vector{Int64}())\n",
    "    end\n",
    "    for (f, list) in exitLinks \n",
    "        from=decodeNames[f]\n",
    "        for t in list \n",
    "            to=decodeNames[t]\n",
    "            push!(enter[to], from)\n",
    "        end\n",
    "    end\n",
    "    \n",
    "    \n",
    "    rowptr=ones(Int64, n+1)\n",
    "    colval=Vector{Int64}()\n",
    "    nzval=Vector{Float64}()\n",
    "    i=2\n",
    "    for to in 1:length(enter) \n",
    "        rowptr[i]=rowptr[i-1]+length(enter[to])\n",
    "        for from in enter[to]\n",
    "            append!(nzval, 1/exitCount[from])\n",
    "            append!(colval, from)\n",
    "        end\n",
    "        i+=1\n",
    "    end\n",
    "    return (MyCSR(n,n, rowptr, colval, nzval), decodeNames, encodeNa, n)\n",
    "end"
   ]
  },
  {
   "cell_type": "code",
   "execution_count": 169,
   "id": "cef3a3c0",
   "metadata": {},
   "outputs": [
    {
     "data": {
      "text/plain": [
       "iterative (generic function with 1 method)"
      ]
     },
     "execution_count": 169,
     "metadata": {},
     "output_type": "execute_result"
    }
   ],
   "source": [
    "function iterative(input, k)\n",
    "    M, encode, decode, n = get_matrix(input)\n",
    "    v = ones(n)/n\n",
    "    for i in 1:k\n",
    "        v=M*v\n",
    "    end\n",
    "    v=map(r-> (encode[r[1]],Float64(r[2])), enumerate(v))\n",
    "    return sort(v, by= x->x[2], rev=true)\n",
    "end"
   ]
  },
  {
   "cell_type": "code",
   "execution_count": 171,
   "id": "6960281f",
   "metadata": {},
   "outputs": [
    {
     "data": {
      "text/plain": [
       "(MyCSR(4, 4, [1, 2, 4, 6, 7], [3, 3, 4, 1, 2, 1], [0.5, 0.5, 1.0, 0.5, 1.0, 0.5]), Dict(\"c\" => 1, \"b\" => 2, \"a\" => 3, \"d\" => 4), [[3], [3, 4], [1, 2], [1]], 4)"
      ]
     },
     "execution_count": 171,
     "metadata": {},
     "output_type": "execute_result"
    }
   ],
   "source": [
    "M, encode, decode, n = get_matrix(input)"
   ]
  },
  {
   "cell_type": "code",
   "execution_count": 176,
   "id": "a6fc5f65",
   "metadata": {},
   "outputs": [
    {
     "data": {
      "text/plain": [
       "4-element Vector{Float64}:\n",
       " 0.20000000000004547\n",
       " 0.2999999999999545\n",
       " 0.3999999999998636\n",
       " 0.10000000000013642"
      ]
     },
     "execution_count": 176,
     "metadata": {},
     "output_type": "execute_result"
    }
   ],
   "source": [
    "v = ones(n)/n\n",
    "for i in 1:40\n",
    "    v=M*v\n",
    "end\n",
    "v"
   ]
  },
  {
   "cell_type": "code",
   "execution_count": 170,
   "id": "6baab2e5",
   "metadata": {},
   "outputs": [
    {
     "ename": "LoadError",
     "evalue": "KeyError: key 1 not found",
     "output_type": "error",
     "traceback": [
      "KeyError: key 1 not found",
      "",
      "Stacktrace:",
      " [1] getindex(h::Dict{String, Int64}, key::Int64)",
      "   @ Base ./dict.jl:482",
      " [2] (::var\"#9#11\"{Dict{String, Int64}})(r::Tuple{Int64, Float64})",
      "   @ Main ./In[169]:7",
      " [3] iterate",
      "   @ ./generator.jl:47 [inlined]",
      " [4] collect(itr::Base.Generator{Base.Iterators.Enumerate{Vector{Float64}}, var\"#9#11\"{Dict{String, Int64}}})",
      "   @ Base ./array.jl:678",
      " [5] map(f::Function, A::Base.Iterators.Enumerate{Vector{Float64}})",
      "   @ Base ./abstractarray.jl:2323",
      " [6] iterative(input::Dict{String, Array{String, N} where N}, k::Int64)",
      "   @ Main ./In[169]:7",
      " [7] top-level scope",
      "   @ In[170]:1",
      " [8] eval",
      "   @ ./boot.jl:360 [inlined]",
      " [9] include_string(mapexpr::typeof(REPL.softscope), mod::Module, code::String, filename::String)",
      "   @ Base ./loading.jl:1116"
     ]
    }
   ],
   "source": [
    "iterative(input, 40)"
   ]
  },
  {
   "cell_type": "code",
   "execution_count": null,
   "id": "df367a6f",
   "metadata": {},
   "outputs": [],
   "source": []
  }
 ],
 "metadata": {
  "kernelspec": {
   "display_name": "Julia 1.6.2",
   "language": "julia",
   "name": "julia-1.6"
  },
  "language_info": {
   "file_extension": ".jl",
   "mimetype": "application/julia",
   "name": "julia",
   "version": "1.6.2"
  }
 },
 "nbformat": 4,
 "nbformat_minor": 5
}
