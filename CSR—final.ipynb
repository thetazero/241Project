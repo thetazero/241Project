{
 "cells": [
  {
   "cell_type": "code",
   "execution_count": 16,
   "id": "1549ca6d",
   "metadata": {},
   "outputs": [],
   "source": [
    "# https://www.geeksforgeeks.org/sparse-matrix-representations-set-3-csr/\n",
    "struct MyCSR\n",
    "    m::Int64                  # Number of rows\n",
    "    n::Int64                  # Number of columns\n",
    "    rowptr::Vector{Int64}     # Row j is in rowptr[j]:(rowptr[j+1]-1)\n",
    "    colval::Vector{Int64}     # Col indices of stored values\n",
    "    nzval::Vector{Float64}    # Stored values, typically nonzeros\n",
    "    MyCSR(m,n,rowptr,colval,nzval)=new(m,n,rowptr,colval, nzval)\n",
    "end\n",
    "# CSR is good! remember me!!!!!!\n",
    "# Base.getindex(::MyCSR, i::Int64, j::Int64) = 3\n",
    "\n"
   ]
  },
  {
   "cell_type": "code",
   "execution_count": 17,
   "id": "f076c20d",
   "metadata": {},
   "outputs": [
    {
     "data": {
      "text/plain": [
       "* (generic function with 329 methods)"
      ]
     },
     "execution_count": 17,
     "metadata": {},
     "output_type": "execute_result"
    }
   ],
   "source": [
    "import Base.*\n",
    "function *(M::MyCSR, v::Vector{Float64})\n",
    "    nw=zeros(length(v))\n",
    "    for row in 1:M.m\n",
    "        for i in M.rowptr[row]:M.rowptr[row+1]-1\n",
    "            col=M.colval[i]\n",
    "            nw[row]+=v[col]*M.nzval[i]\n",
    "        end\n",
    "    end\n",
    "    return nw\n",
    "end "
   ]
  },
  {
   "cell_type": "code",
   "execution_count": 18,
   "id": "3474b08e",
   "metadata": {},
   "outputs": [
    {
     "data": {
      "text/plain": [
       "Densify (generic function with 1 method)"
      ]
     },
     "execution_count": 18,
     "metadata": {},
     "output_type": "execute_result"
    }
   ],
   "source": [
    "function Densify(a::MyCSR)\n",
    "    M=zeros(Float64, a.m, a.n)\n",
    "    for row in 1:a.m\n",
    "        for i in a.rowptr[row]:a.rowptr[row+1]-1\n",
    "            c=a.colval[i]\n",
    "            M[row, c]=a.nzval[i]\n",
    "        end\n",
    "    end\n",
    "    return M\n",
    "end"
   ]
  },
  {
   "cell_type": "code",
   "execution_count": 19,
   "id": "a265d85e",
   "metadata": {},
   "outputs": [],
   "source": [
    "using LinearAlgebra;\n",
    "using Latexify;"
   ]
  },
  {
   "cell_type": "code",
   "execution_count": 20,
   "id": "3c606b5e",
   "metadata": {},
   "outputs": [
    {
     "data": {
      "text/plain": [
       "Dict{String, Array{String, N} where N} with 4 entries:\n",
       "  \"c\" => [\"a\", \"d\"]\n",
       "  \"b\" => [\"a\"]\n",
       "  \"a\" => [\"b\", \"c\"]\n",
       "  \"d\" => [\"b\"]"
      ]
     },
     "execution_count": 20,
     "metadata": {},
     "output_type": "execute_result"
    }
   ],
   "source": [
    "dummy = Dict{String, Array{String}}(\"a\"=>[\"b\",\"c\"], \"b\"=>[\"a\"], \"c\"=>[\"a\",\"d\"], \"d\"=>[\"b\"])"
   ]
  },
  {
   "cell_type": "code",
   "execution_count": 21,
   "id": "0993b856",
   "metadata": {},
   "outputs": [
    {
     "data": {
      "text/plain": [
       "Dict{String, Array{String, N} where N} with 4 entries:\n",
       "  \"c\" => [\"a\", \"d\"]\n",
       "  \"b\" => [\"a\"]\n",
       "  \"a\" => [\"b\", \"c\"]\n",
       "  \"d\" => [\"b\"]"
      ]
     },
     "execution_count": 21,
     "metadata": {},
     "output_type": "execute_result"
    }
   ],
   "source": [
    "input=dummy"
   ]
  },
  {
   "cell_type": "code",
   "execution_count": 22,
   "id": "e61ac990",
   "metadata": {},
   "outputs": [
    {
     "data": {
      "text/plain": [
       "get_matrix (generic function with 1 method)"
      ]
     },
     "execution_count": 22,
     "metadata": {},
     "output_type": "execute_result"
    }
   ],
   "source": [
    "damping=0.85\n",
    "function get_matrix(exitLinks)\n",
    "    n=length(exitLinks)\n",
    "    exitCount=Dict{Int64, Int64}()\n",
    "    encodeNames=String[]\n",
    "    decodeNames=Dict{String, Int64}()\n",
    "    i=1\n",
    "    for (key, list) in exitLinks\n",
    "        push!(encodeNames, key)\n",
    "        push!(decodeNames, key=>i)\n",
    "        push!(exitCount, i=>length(list))\n",
    "        i+=1\n",
    "    end\n",
    "    \n",
    "    \n",
    "    enter=Vector{Vector{Int64}}()\n",
    "    for _ in 1:n\n",
    "        push!(enter, Vector{Int64}())\n",
    "    end\n",
    "    for (f, list) in exitLinks \n",
    "        from=decodeNames[f]\n",
    "        for t in list \n",
    "            to=decodeNames[t]\n",
    "            push!(enter[to], from)\n",
    "        end\n",
    "    end\n",
    "    \n",
    "    \n",
    "    rowptr=ones(Int64, n+1)\n",
    "    colval=Vector{Int64}()\n",
    "    nzval=Vector{Float64}()\n",
    "    i=2\n",
    "    for to in 1:length(enter) \n",
    "        rowptr[i]=rowptr[i-1]+length(enter[to])\n",
    "        for from in enter[to]\n",
    "            append!(nzval, 1/exitCount[from])\n",
    "            append!(colval, from)\n",
    "        end\n",
    "        i+=1\n",
    "    end\n",
    "    return (MyCSR(n,n, rowptr, colval, nzval), encodeNames, n)\n",
    "end"
   ]
  },
  {
   "cell_type": "code",
   "execution_count": 26,
   "id": "004b60ce",
   "metadata": {},
   "outputs": [
    {
     "data": {
      "text/plain": [
       "sparse_power (generic function with 2 methods)"
      ]
     },
     "execution_count": 26,
     "metadata": {},
     "output_type": "execute_result"
    }
   ],
   "source": [
    "function sparse_power(input, k, β=0.85)\n",
    "    M, encode, n = get_matrix(input)\n",
    "    v = ones(n)/n\n",
    "    for i in 1:k\n",
    "        v=β*(M*v).+(1-β)/n\n",
    "        v/=sum(v)\n",
    "    end\n",
    "    v=map(r-> (encode[r[1]],Float64(r[2])), enumerate(v))\n",
    "    return sort(v, by=x->x[2], rev=true)\n",
    "end"
   ]
  },
  {
   "cell_type": "code",
   "execution_count": 27,
   "id": "318b020a",
   "metadata": {},
   "outputs": [
    {
     "data": {
      "text/plain": [
       "4-element Vector{Tuple{String, Float64}}:\n",
       " (\"a\", 0.37824245632609843)\n",
       " (\"b\", 0.3017469560614081)\n",
       " (\"c\", 0.19825304393859183)\n",
       " (\"d\", 0.12175754367390153)"
      ]
     },
     "execution_count": 27,
     "metadata": {},
     "output_type": "execute_result"
    }
   ],
   "source": [
    "x=sparse_power(input,100)"
   ]
  },
  {
   "cell_type": "code",
   "execution_count": null,
   "id": "46d40125",
   "metadata": {},
   "outputs": [],
   "source": []
  }
 ],
 "metadata": {
  "kernelspec": {
   "display_name": "Julia 1.6.2",
   "language": "julia",
   "name": "julia-1.6"
  },
  "language_info": {
   "file_extension": ".jl",
   "mimetype": "application/julia",
   "name": "julia",
   "version": "1.6.2"
  }
 },
 "nbformat": 4,
 "nbformat_minor": 5
}
