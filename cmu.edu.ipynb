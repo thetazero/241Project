{
 "cells": [
  {
   "cell_type": "code",
   "execution_count": 125,
   "id": "61854823",
   "metadata": {},
   "outputs": [],
   "source": [
    "# https://www.geeksforgeeks.org/sparse-matrix-representations-set-3-csr/\n",
    "struct MyCSR\n",
    "    m::Int64                  # Number of rows\n",
    "    n::Int64                  # Number of columns\n",
    "    rowptr::Vector{Int64}     # Row j is in rowptr[j]:(rowptr[j+1]-1)\n",
    "    colval::Vector{Int64}     # Col indices of stored values\n",
    "    nzval::Vector{Float64}    # Stored values, typically nonzeros\n",
    "    MyCSR(m,n,rowptr,colval,nzval)=new(m,n,rowptr,colval, nzval)\n",
    "end"
   ]
  },
  {
   "cell_type": "code",
   "execution_count": 126,
   "id": "df190463",
   "metadata": {},
   "outputs": [
    {
     "data": {
      "text/plain": [
       "* (generic function with 329 methods)"
      ]
     },
     "execution_count": 126,
     "metadata": {},
     "output_type": "execute_result"
    }
   ],
   "source": [
    "import Base.*\n",
    "function *(M::MyCSR, v::Vector{Float64})\n",
    "    nw=zeros(length(v))\n",
    "    for row in 1:M.m\n",
    "        for i in M.rowptr[row]:M.rowptr[row+1]-1\n",
    "            col=M.colval[i]\n",
    "            nw[row]+=v[col]*M.nzval[i]\n",
    "        end\n",
    "    end\n",
    "    return nw\n",
    "end "
   ]
  },
  {
   "cell_type": "code",
   "execution_count": 127,
   "id": "3e88c87c",
   "metadata": {},
   "outputs": [
    {
     "name": "stderr",
     "output_type": "stream",
     "text": [
      "\u001b[32m\u001b[1m   Resolving\u001b[22m\u001b[39m package versions...\n",
      "\u001b[32m\u001b[1m  No Changes\u001b[22m\u001b[39m to `~/.julia/environments/v1.6/Project.toml`\n",
      "\u001b[32m\u001b[1m  No Changes\u001b[22m\u001b[39m to `~/.julia/environments/v1.6/Manifest.toml`\n"
     ]
    }
   ],
   "source": [
    "using LinearAlgebra;\n",
    "import Pkg; Pkg.add(\"JSON\")\n",
    "using JSON;"
   ]
  },
  {
   "cell_type": "code",
   "execution_count": 128,
   "id": "1af938c7",
   "metadata": {},
   "outputs": [
    {
     "data": {
      "text/plain": [
       "Dict{String, Any} with 5818 entries:\n",
       "  \"https://cmu.edu/news-ev… => Any[]\n",
       "  \"https://cmu.edu/news/st… => Any[]\n",
       "  \"https://cmu.edu/news/ne… => Any[]\n",
       "  \"https://cmu.edu/news/st… => Any[]\n",
       "  \"https://cmu.edu/Academi… => Any[]\n",
       "  \"https://cmu.edu/dietric… => Any[]\n",
       "  \"https://cmu.edu/news/st… => Any[]\n",
       "  \"https://cmu.edu/physics… => Any[]\n",
       "  \"https://cmu.edu/news/st… => Any[]\n",
       "  \"https://cmu.edu/news/st… => Any[]\n",
       "  \"https://cmu.edu/hr/care… => Any[]\n",
       "  \"https://cmu.edu/math/pe… => Any[]\n",
       "  \"https://cmu.edu/news/st… => Any[]\n",
       "  \"https://cmu.edu/news/st… => Any[]\n",
       "  \"https://cmu.edu/news/st… => Any[\"https://cmu.edu\", \"https://cmu.edu/news/ind…\n",
       "  \"https://cmu.edu/news/st… => Any[]\n",
       "  \"https://cmu.edu/leaders… => Any[\"https://cmu.edu\", \"https://cmu.edu/leadersh…\n",
       "  \"https://cmu.edu/piper/n… => Any[]\n",
       "  \"https://cmu.edu/news/fe… => Any[]\n",
       "  \"https://cmu.edu/news/st… => Any[]\n",
       "  \"https://cmu.edu/news/st… => Any[]\n",
       "  \"https://cmu.edu/news/st… => Any[]\n",
       "  \"https://cmu.edu/stugov/… => Any[]\n",
       "  \"https://cmu.edu/news/st… => Any[]\n",
       "  \"https://cmu.edu/coronav… => Any[]\n",
       "  ⋮                         => ⋮"
      ]
     },
     "execution_count": 128,
     "metadata": {},
     "output_type": "execute_result"
    }
   ],
   "source": [
    "input = Dict()\n",
    "open(\"links-20.json\", \"r\") do f\n",
    "    global input\n",
    "    dicttxt = read(f, String)  # file information to string\n",
    "    input=JSON.parse(dicttxt)  # parse and transform data\n",
    "end"
   ]
  },
  {
   "cell_type": "code",
   "execution_count": 129,
   "id": "80863362",
   "metadata": {},
   "outputs": [
    {
     "data": {
      "text/plain": [
       "get_matrix (generic function with 1 method)"
      ]
     },
     "execution_count": 129,
     "metadata": {},
     "output_type": "execute_result"
    }
   ],
   "source": [
    "damping=0.85\n",
    "function get_matrix(exitLinks)\n",
    "    n=length(exitLinks)\n",
    "    exitCount=Dict{Int64, Int64}()\n",
    "    encodeNames=String[]\n",
    "    decodeNames=Dict{String, Int64}()\n",
    "    i=1\n",
    "    for (key, list) in exitLinks\n",
    "        push!(encodeNames, key)\n",
    "        push!(decodeNames, key=>i)\n",
    "        push!(exitCount, i=>length(list))\n",
    "        i+=1\n",
    "    end\n",
    "    \n",
    "    \n",
    "    enter=Vector{Vector{Int64}}()\n",
    "    for _ in 1:n\n",
    "        push!(enter, Vector{Int64}())\n",
    "    end\n",
    "    for (f, list) in exitLinks \n",
    "        from=decodeNames[f]\n",
    "        for t in list \n",
    "            to=decodeNames[t]\n",
    "            push!(enter[to], from)\n",
    "        end\n",
    "    end\n",
    "    \n",
    "    \n",
    "    rowptr=ones(Int64, n+1)\n",
    "    colval=Vector{Int64}()\n",
    "    nzval=Vector{Float64}()\n",
    "    i=2\n",
    "    for to in 1:length(enter) \n",
    "        rowptr[i]=rowptr[i-1]+length(enter[to])\n",
    "        for from in enter[to]\n",
    "            append!(nzval, 1/exitCount[from])\n",
    "            append!(colval, from)\n",
    "        end\n",
    "        i+=1\n",
    "    end\n",
    "    return (MyCSR(n,n, rowptr, colval, nzval), encodeNames, n)\n",
    "end"
   ]
  },
  {
   "cell_type": "code",
   "execution_count": 130,
   "id": "3923e5b6",
   "metadata": {},
   "outputs": [
    {
     "data": {
      "text/plain": [
       "sparse_power (generic function with 2 methods)"
      ]
     },
     "execution_count": 130,
     "metadata": {},
     "output_type": "execute_result"
    }
   ],
   "source": [
    "function sparse_power(input, k, β=0.85)\n",
    "    M, encode, n = get_matrix(input)\n",
    "    v = ones(n)/n\n",
    "    for i in 1:k\n",
    "        v=β*(M*v).+(1-β)/n\n",
    "        v/=sum(v)\n",
    "    end\n",
    "    v=map(r-> (encode[r[1]],Float64(r[2])), enumerate(v))\n",
    "    return sort(v, by=x->x[2], rev=true)\n",
    "end"
   ]
  },
  {
   "cell_type": "code",
   "execution_count": 131,
   "id": "a43902f1",
   "metadata": {},
   "outputs": [
    {
     "data": {
      "text/plain": [
       "5818-element Vector{Tuple{String, Float64}}:\n",
       " (\"https://cmu.edu\", 0.018021005253354185)\n",
       " (\"https://cmu.edu/legal\", 0.014751304954430604)\n",
       " (\"https://cmu.edu/coronavirus/index.html\", 0.011589885500141494)\n",
       " (\"https://cmu.edu/coronavirus/health-and-wellness/facial-covering.html\", 0.011250180465750074)\n",
       " (\"https://cmu.edu/coronavirus/visitor-protocol/index.html\", 0.011246572527832337)\n",
       " (\"https://cmu.edu/coronavirus/health-and-wellness/testing/index.html\", 0.011245901945699653)\n",
       " (\"https://cmu.edu/coronavirus/staff/index.html\", 0.011245252224426803)\n",
       " (\"https://cmu.edu/coronavirus/preparing-campus/touchdown.html\", 0.011245252224426803)\n",
       " (\"https://cmu.edu/coronavirus/return/mitigation2.html\", 0.011245252224426803)\n",
       " (\"https://cmu.edu/coronavirus/health-and-wellness/coping-support.html\", 0.011245252224426803)\n",
       " (\"https://cmu.edu/coronavirus/return/resources.html\", 0.011245252224426803)\n",
       " (\"https://cmu.edu/coronavirus/visitor-protocol/covid-19-mitigation-protocol-for-cmu-service-providers.html\", 0.011245252224426803)\n",
       " (\"https://cmu.edu/coronavirus/health-and-wellness/reporting-concerns.html\", 0.011245252224426803)\n",
       " ⋮\n",
       " (\"https://cmu.edu/news/stories/archives/2019/august/kindergarten-study.html\", 5.688567079540896e-5)\n",
       " (\"https://cmu.edu/news/stories/archives/2019/october/cmu-launches-make-possible-campaign.html\", 5.688567079540896e-5)\n",
       " (\"https://cmu.edu/news/stories/archives/2019/july/expanding-hazelwood-green.html\", 5.688567079540896e-5)\n",
       " (\"https://cmu.edu/news/stories/archives/2019/march/pi-day.html\", 5.688567079540896e-5)\n",
       " (\"https://cmu.edu/news/stories/archives/2019/january/phantom-52-sundance-debut.html\", 5.688567079540896e-5)\n",
       " (\"https://cmu.edu/news/stories/archives/2019/june/vr-microscopy.html\", 5.688567079540896e-5)\n",
       " (\"https://cmu.edu/news/stories/archives/2019/march/social-posts-relationships.html\", 5.688567079540896e-5)\n",
       " (\"https://cmu.edu/news/stories/archives/2019/august/darpa-subterranean-win.html\", 5.688567079540896e-5)\n",
       " (\"https://cmu.edu/news/stories/archives/2019/december/bill-elliott-obituary.html\", 5.688567079540896e-5)\n",
       " (\"https://cmu.edu/news/stories/archives/2019/march/sxsw-zimmerman.html\", 5.688567079540896e-5)\n",
       " (\"https://cmu.edu/news/stories/archives/2019/december/soccer-seniors.html\", 5.688567079540896e-5)\n",
       " (\"https://cmu.edu/news/stories/archives/2012/september/sept17_voicesecurity.html\", 5.6788337806070516e-5)"
      ]
     },
     "execution_count": 131,
     "metadata": {},
     "output_type": "execute_result"
    }
   ],
   "source": [
    "res=sparse_power(input,42)"
   ]
  },
  {
   "cell_type": "code",
   "execution_count": 160,
   "id": "5e6cfa41",
   "metadata": {},
   "outputs": [],
   "source": [
    " using Printf"
   ]
  },
  {
   "cell_type": "code",
   "execution_count": 162,
   "id": "53591f35",
   "metadata": {},
   "outputs": [
    {
     "data": {
      "text/plain": [
       "\"\\\\hline\\nhttps://cmu.edu & 0.01802\\\\\\\\\\\\hline\\nhttps://cmu.edu/legal & 0.01475\\\\\\\\\\\\hline\\nhttps://cmu.edu/coronavirus/index.html & 0.01159\\\\\\\\\\\\hline\\nhttps://cmu.edu/coronavirus/health-and-wellness/facial-covering.html & 0.01125\\\\\\\\\\\\hline\\nhttps://cmu.edu/coronavirus/visitor-protocol/index.html & 0.01125\\\\\\\\\\\\hline\\nhttps://cmu.edu/coronavirus/health-and-wellness/testing/index.html & 0.01125\\\\\\\\\\\\hline\\nhttps://cmu.edu/coronavirus/staff/index.html & 0.01125\\\\\\\\\\\\hline\\nhttps://cmu.edu/coronavirus/preparing-campus/touchdown.html & 0.01125\\\\\\\\\\\\hline\\nhttps://cmu.edu/coronavirus/return/mitigation2.html & 0.01125\\\\\\\\\\\\hline\\nhttps://cmu.edu/coronavirus/health-and-wellness/coping-support.html & 0.01125\\\\\\\\\\\\hline\\nhttps://cmu.edu/coronavirus/return/resources.html & 0.01125\\\\\\\\\\\\hline\\nhttps://cmu.edu/coronavirus/visitor-protocol/covid-19-mitigation-protocol-for-cmu-service-providers.html & 0.01125\\\\\\\\\\\\hline\\nhttps://cmu.edu/coronavirus/health-and-wellness/reporting-concerns.html & 0.01125\\\\\\\\\\\\hline\\nhttps://cmu.edu/coronavirus/return/process.html & 0.01125\\\\\\\\\\\\hline\\nhttps://cmu.edu/coronavirus/health-and-wellness/symptoms-and-reporting.html & 0.01125\\\\\\\\\\\\hline\\nhttps://cmu.edu/coronavirus/health-and-wellness/testing/asymptomatic-testing-us-locations-outside-pittsburgh.html & 0.01125\\\\\\\\\\\\hline\\nhttps://cmu.edu/coronavirus/students/gatherings.html & 0.01090\\\\\\\\\\\\hline\\nhttps://cmu.edu/coronavirus/faculty/index.html & 0.01086\\\\\\\\\\\\hline\\nhttps://cmu.edu/coronavirus/return/min-requirements.html & 0.01085\\\\\\\\\\\\hline\\nhttps://cmu.edu/coronavirus/researchers/index.html & 0.01084\\\\\\\\\\\\hline\\nhttps://cmu.edu/coronavirus/students/tartans-responsibility.html & 0.01084\\\\\\\\\\\\hline\\nhttps://cmu.edu/coronavirus/vaccine/index.html & 0.01083\\\\\\\\\\\\hline\\nhttps://cmu.edu/coronavirus/faqs/index.html & 0.01083\\\\\\\\\\\\hline\\nhttps://cmu.edu/coronavirus/news-and-communications/index.html & 0.01080\\\\\\\\\\\\hline\\nhttps://cmu.edu/coronavirus/health-and-wellness/index.html & 0.01078\\\\\\\\\\\\hline\\nhttps://cmu.edu/coronavirus/vaccine/vaccine-database.html & 0.01078\\\\\\\\\\\\hline\\nhttps://cmu.edu/coronavirus/return/index.html & 0.01078\\\\\\\\\\\\hline\\nhttps://cmu.edu/coronavirus/health-and-wellness/testing/tartan-testing.html & 0.01077\\\\\\\\\\\\hline\\nhttps://cmu.edu/coronavirus/travel-protocol/index.html & 0.01077\\\\\\\\\\\\hline\\nhttps://cmu.edu/coronavirus/students/index.html & 0.01077\\\\\\\\\\\\hline\\nhttps://cmu.edu/coronavirus/health-and-wellness/dashboard.html & 0.01077\\\\\\\\\\\\hline\\nhttps://cmu.edu/coronavirus/health-and-wellness/assessment.html & 0.01076\\\\\\\\\\\\hline\\nhttps://cmu.edu/coronavirus/vaccine/vaccine-requirements-for-fall.html & 0.01076\\\\\\\\\\\\hline\\nhttps://cmu.edu/coronavirus/vaccine/vaccination-and-revaccination-guidelines-for-domestic-and-international-students.html & 0.01076\\\\\\\\\\\\hline\\nhttps://cmu.edu/coronavirus/students/housing-dining.html & 0.01074\\\\\\\\\\\\hline\\nhttps://cmu.edu/coronavirus/students/international.html & 0.01073\\\\\\\\\\\\hline\\nhttps://cmu.edu/coronavirus/preparing-campus/service-postures/index.html & 0.01072\\\\\\\\\\\\hline\\nhttps://cmu.edu/coronavirus/preparing-campus/index.html & 0.01072\\\\\\\\\\\\hline\\nhttps://cmu.edu/coronavirus/health-and-wellness/facial-covering-guidelines.html & 0.00869\\\\\\\\\\\\hline\\nhttps://cmu.edu/coronavirus/travel-protocol/travel-risk.html & 0.00869\\\\\\\\\\\\hline\""
      ]
     },
     "execution_count": 162,
     "metadata": {},
     "output_type": "execute_result"
    }
   ],
   "source": [
    "join(map(r->\"\\\\\"*\"hline\\n\"*r[1]*\" & \"*@sprintf(\"%1.5f\", r[2])*\"\\\\\\\\\" ,res[1:40]))*\"\\\\hline\""
   ]
  },
  {
   "cell_type": "code",
   "execution_count": null,
   "id": "ae1d1132",
   "metadata": {},
   "outputs": [],
   "source": []
  },
  {
   "cell_type": "code",
   "execution_count": null,
   "id": "c89f9b9b",
   "metadata": {},
   "outputs": [],
   "source": []
  }
 ],
 "metadata": {
  "kernelspec": {
   "display_name": "Julia 1.6.2",
   "language": "julia",
   "name": "julia-1.6"
  },
  "language_info": {
   "file_extension": ".jl",
   "mimetype": "application/julia",
   "name": "julia",
   "version": "1.6.2"
  }
 },
 "nbformat": 4,
 "nbformat_minor": 5
}
