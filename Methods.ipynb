{
 "cells": [
  {
   "cell_type": "code",
   "execution_count": 3,
   "id": "94072860",
   "metadata": {},
   "outputs": [],
   "source": [
    "using LinearAlgebra, SparseArrays;\n",
    "using Latexify;"
   ]
  },
  {
   "cell_type": "code",
   "execution_count": 4,
   "id": "820a40fe",
   "metadata": {},
   "outputs": [
    {
     "data": {
      "text/plain": [
       "Dict{String, Array{String, N} where N} with 4 entries:\n",
       "  \"c\" => [\"a\", \"d\"]\n",
       "  \"b\" => [\"a\"]\n",
       "  \"a\" => [\"b\", \"c\"]\n",
       "  \"d\" => [\"b\"]"
      ]
     },
     "execution_count": 4,
     "metadata": {},
     "output_type": "execute_result"
    }
   ],
   "source": [
    "dummy = Dict{String, Array{String}}(\"a\"=>[\"b\",\"c\"], \"b\"=>[\"a\"], \"c\"=>[\"a\",\"d\"], \"d\"=>[\"b\"])"
   ]
  },
  {
   "cell_type": "code",
   "execution_count": 5,
   "id": "f9f39f79",
   "metadata": {},
   "outputs": [
    {
     "data": {
      "text/plain": [
       "Dict{String, Array{String, N} where N} with 4 entries:\n",
       "  \"c\" => [\"a\", \"d\"]\n",
       "  \"b\" => [\"a\"]\n",
       "  \"a\" => [\"b\", \"c\"]\n",
       "  \"d\" => [\"b\"]"
      ]
     },
     "execution_count": 5,
     "metadata": {},
     "output_type": "execute_result"
    }
   ],
   "source": [
    "input=dummy"
   ]
  },
  {
   "cell_type": "code",
   "execution_count": 11,
   "id": "cbe78c07",
   "metadata": {},
   "outputs": [
    {
     "data": {
      "text/plain": [
       "naive_get_matrix (generic function with 1 method)"
      ]
     },
     "execution_count": 11,
     "metadata": {},
     "output_type": "execute_result"
    }
   ],
   "source": [
    "damping=0.85\n",
    "function naive_get_matrix(data)\n",
    "    n=length(dummy)\n",
    "    encodeNames=String[]\n",
    "    decodeNames=Dict{String, Int64}()\n",
    "    i=1\n",
    "    for (key, value) in data\n",
    "        push!(encodeNames, key)\n",
    "        push!(decodeNames, key=>i)\n",
    "        i=i+1\n",
    "    end\n",
    "    M=zeros(Float64, length(dummy), length(dummy))\n",
    "    for (from, list) in data \n",
    "        l=length(list)\n",
    "        for to in list \n",
    "            M[decodeNames[to], decodeNames[from]]=1/l\n",
    "        end\n",
    "        M[:,decodeNames[from]].*=damping\n",
    "        M[:,decodeNames[from]].+=(1-damping)/n\n",
    "    end\n",
    "    return (M, encodeNames, decodeNames)\n",
    "end"
   ]
  },
  {
   "cell_type": "code",
   "execution_count": 12,
   "id": "809f10f8",
   "metadata": {},
   "outputs": [
    {
     "data": {
      "text/plain": [
       "sparse_get_matrix (generic function with 1 method)"
      ]
     },
     "execution_count": 12,
     "metadata": {},
     "output_type": "execute_result"
    }
   ],
   "source": [
    "damping=0.85\n",
    "function sparse_get_matrix(data)\n",
    "    n=length(dummy)\n",
    "    encodeNames=String[]\n",
    "    decodeNames=Dict{String, Int64}()\n",
    "    i=1\n",
    "    for (key, value) in data\n",
    "        push!(encodeNames, key)\n",
    "        push!(decodeNames, key=>i)\n",
    "        i=i+1\n",
    "    end\n",
    "    M=spzeros(Float64, length(dummy), length(dummy))\n",
    "    for (from, list) in data \n",
    "        l=length(list)\n",
    "        for to in list \n",
    "            M[decodeNames[to], decodeNames[from]]=1/l\n",
    "        end\n",
    "        M[:,decodeNames[from]].*=damping\n",
    "        M[:,decodeNames[from]].+=(1-damping)/n\n",
    "    end\n",
    "    return (M, encodeNames, decodeNames)\n",
    "end"
   ]
  },
  {
   "cell_type": "code",
   "execution_count": 13,
   "id": "1f96a002",
   "metadata": {},
   "outputs": [
    {
     "data": {
      "text/plain": [
       "([0.037500000000000006 0.037500000000000006 0.4625 0.037500000000000006; 0.037500000000000006 0.037500000000000006 0.4625 0.8875; 0.4625 0.8875 0.037500000000000006 0.037500000000000006; 0.4625 0.037500000000000006 0.037500000000000006 0.037500000000000006], [\"c\", \"b\", \"a\", \"d\"], Dict(\"c\" => 1, \"b\" => 2, \"a\" => 3, \"d\" => 4))"
      ]
     },
     "execution_count": 13,
     "metadata": {},
     "output_type": "execute_result"
    }
   ],
   "source": [
    "M, encode, decode=naive_get_matrix(input)"
   ]
  },
  {
   "cell_type": "code",
   "execution_count": 14,
   "id": "e9b2de93",
   "metadata": {},
   "outputs": [
    {
     "data": {
      "text/plain": [
       "4×4 Matrix{Float64}:\n",
       " 0.0375  0.0375  0.4625  0.0375\n",
       " 0.0375  0.0375  0.4625  0.8875\n",
       " 0.4625  0.8875  0.0375  0.0375\n",
       " 0.4625  0.0375  0.0375  0.0375"
      ]
     },
     "execution_count": 14,
     "metadata": {},
     "output_type": "execute_result"
    }
   ],
   "source": [
    "M"
   ]
  },
  {
   "cell_type": "code",
   "execution_count": 15,
   "id": "760ba794",
   "metadata": {},
   "outputs": [
    {
     "data": {
      "text/latex": [
       "\\begin{equation}\n",
       "\\left[\n",
       "\\begin{array}{cccc}\n",
       "0.2340625 & 0.4146875 & 0.05343750000000001 & 0.053437500000000006 \\\\\n",
       "0.6271875 & 0.4465625 & 0.08531250000000001 & 0.08531250000000001 \\\\\n",
       "0.08531250000000001 & 0.08531250000000001 & 0.6271875000000001 & 0.8078125 \\\\\n",
       "0.05343750000000001 & 0.053437500000000006 & 0.2340625 & 0.053437500000000006 \\\\\n",
       "\\end{array}\n",
       "\\right]\n",
       "\\end{equation}\n"
      ],
      "text/plain": [
       "L\"\\begin{equation}\n",
       "\\left[\n",
       "\\begin{array}{cccc}\n",
       "0.2340625 & 0.4146875 & 0.05343750000000001 & 0.053437500000000006 \\\\\n",
       "0.6271875 & 0.4465625 & 0.08531250000000001 & 0.08531250000000001 \\\\\n",
       "0.08531250000000001 & 0.08531250000000001 & 0.6271875000000001 & 0.8078125 \\\\\n",
       "0.05343750000000001 & 0.053437500000000006 & 0.2340625 & 0.053437500000000006 \\\\\n",
       "\\end{array}\n",
       "\\right]\n",
       "\\end{equation}\n",
       "\""
      ]
     },
     "execution_count": 15,
     "metadata": {},
     "output_type": "execute_result"
    }
   ],
   "source": [
    "latexify(M^2)"
   ]
  },
  {
   "cell_type": "code",
   "execution_count": 16,
   "id": "b8de026c",
   "metadata": {},
   "outputs": [
    {
     "data": {
      "text/plain": [
       "naive (generic function with 1 method)"
      ]
     },
     "execution_count": 16,
     "metadata": {},
     "output_type": "execute_result"
    }
   ],
   "source": [
    "function naive(input)\n",
    "    M, encode, decode = naive_get_matrix(input)\n",
    "    Λ, X=eigen(M)\n",
    "    n=size(Λ,1)\n",
    "    ranks=X[:, n]\n",
    "    ranks/=sum(ranks)\n",
    "    sites=map(r-> (encode[r[1]],Float64(r[2])), enumerate(ranks))\n",
    "    return sort(sites, by= x->x[2], rev=true)\n",
    "end"
   ]
  },
  {
   "cell_type": "code",
   "execution_count": 17,
   "id": "83561460",
   "metadata": {},
   "outputs": [
    {
     "data": {
      "text/plain": [
       "4-element Vector{Tuple{String, Float64}}:\n",
       " (\"a\", 0.37824245632609843)\n",
       " (\"b\", 0.30174695606140833)\n",
       " (\"c\", 0.1982530439385918)\n",
       " (\"d\", 0.12175754367390147)"
      ]
     },
     "execution_count": 17,
     "metadata": {},
     "output_type": "execute_result"
    }
   ],
   "source": [
    "r=naive(input)"
   ]
  },
  {
   "cell_type": "code",
   "execution_count": 18,
   "id": "16842c6e",
   "metadata": {},
   "outputs": [
    {
     "data": {
      "text/plain": [
       "iterative (generic function with 1 method)"
      ]
     },
     "execution_count": 18,
     "metadata": {},
     "output_type": "execute_result"
    }
   ],
   "source": [
    "function iterative(input, k)\n",
    "    M, encode, decode = naive_get_matrix(input)\n",
    "    n = size(M, 1)\n",
    "    v = ones(n)/n\n",
    "    for i in 1:k\n",
    "        v=M*v\n",
    "    end\n",
    "    v=map(r-> (encode[r[1]],Float64(r[2])), enumerate(v))\n",
    "    return sort(v, by= x->x[2], rev=true)\n",
    "end"
   ]
  },
  {
   "cell_type": "code",
   "execution_count": 19,
   "id": "75bf6949",
   "metadata": {},
   "outputs": [
    {
     "data": {
      "text/plain": [
       "4-element Vector{Tuple{String, Float64}}:\n",
       " (\"a\", 0.3782424563260983)\n",
       " (\"b\", 0.3017469560614082)\n",
       " (\"c\", 0.198253043938592)\n",
       " (\"d\", 0.12175754367390175)"
      ]
     },
     "execution_count": 19,
     "metadata": {},
     "output_type": "execute_result"
    }
   ],
   "source": [
    "v=iterative(input, 40)"
   ]
  },
  {
   "cell_type": "code",
   "execution_count": 20,
   "id": "2d24de70",
   "metadata": {},
   "outputs": [
    {
     "data": {
      "text/plain": [
       "iterative_sparse (generic function with 1 method)"
      ]
     },
     "execution_count": 20,
     "metadata": {},
     "output_type": "execute_result"
    }
   ],
   "source": [
    "function iterative_sparse(input, k)\n",
    "    M, encode, decode = sparse_get_matrix(input)\n",
    "    n = size(M, 1)\n",
    "    v = ones(n)/n\n",
    "    for i in 1:k\n",
    "        v=M*v\n",
    "    end\n",
    "    v=map(r-> (encode[r[1]],Float64(r[2])), enumerate(v))\n",
    "    return sort(v, by= x->x[2], rev=true)\n",
    "end"
   ]
  },
  {
   "cell_type": "code",
   "execution_count": 21,
   "id": "24317f71",
   "metadata": {},
   "outputs": [
    {
     "data": {
      "text/plain": [
       "4-element Vector{Tuple{String, Float64}}:\n",
       " (\"a\", 0.37824245632609854)\n",
       " (\"b\", 0.3017469560614084)\n",
       " (\"c\", 0.19825304393859214)\n",
       " (\"d\", 0.12175754367390183)"
      ]
     },
     "execution_count": 21,
     "metadata": {},
     "output_type": "execute_result"
    }
   ],
   "source": [
    "v=iterative_sparse(input, 40)"
   ]
  },
  {
   "cell_type": "code",
   "execution_count": 22,
   "id": "f5e8412b",
   "metadata": {},
   "outputs": [
    {
     "data": {
      "text/plain": [
       "(\n",
       " 0.0375  0.0375  0.4625  0.0375\n",
       " 0.0375  0.0375  0.4625  0.8875\n",
       " 0.4625  0.8875  0.0375  0.0375\n",
       " 0.4625  0.0375  0.0375  0.0375, [\"c\", \"b\", \"a\", \"d\"], Dict(\"c\" => 1, \"b\" => 2, \"a\" => 3, \"d\" => 4))"
      ]
     },
     "execution_count": 22,
     "metadata": {},
     "output_type": "execute_result"
    }
   ],
   "source": [
    "M, encode, decode = sparse_get_matrix(input)"
   ]
  },
  {
   "cell_type": "code",
   "execution_count": null,
   "id": "5f5b2fe6",
   "metadata": {},
   "outputs": [],
   "source": []
  }
 ],
 "metadata": {
  "kernelspec": {
   "display_name": "Julia 1.6.2",
   "language": "julia",
   "name": "julia-1.6"
  },
  "language_info": {
   "file_extension": ".jl",
   "mimetype": "application/julia",
   "name": "julia",
   "version": "1.6.2"
  }
 },
 "nbformat": 4,
 "nbformat_minor": 5
}
