{
 "cells": [
  {
   "cell_type": "code",
   "execution_count": 55,
   "id": "94072860",
   "metadata": {},
   "outputs": [],
   "source": [
    "using LinearAlgebra, SparseArrays;"
   ]
  },
  {
   "cell_type": "code",
   "execution_count": 79,
   "id": "820a40fe",
   "metadata": {},
   "outputs": [
    {
     "data": {
      "text/plain": [
       "Dict{String, Array{String, N} where N} with 4 entries:\n",
       "  \"c\" => [\"a\", \"d\"]\n",
       "  \"b\" => [\"a\"]\n",
       "  \"a\" => [\"b\", \"c\"]\n",
       "  \"d\" => [\"b\"]"
      ]
     },
     "execution_count": 79,
     "metadata": {},
     "output_type": "execute_result"
    }
   ],
   "source": [
    "dummy = Dict{String, Array{String}}(\"a\"=>[\"b\",\"c\"], \"b\"=>[\"a\"], \"c\"=>[\"a\",\"d\"], \"d\"=>[\"b\"])"
   ]
  },
  {
   "cell_type": "code",
   "execution_count": 80,
   "id": "f9f39f79",
   "metadata": {},
   "outputs": [
    {
     "data": {
      "text/plain": [
       "Dict{String, Array{String, N} where N} with 4 entries:\n",
       "  \"c\" => [\"a\", \"d\"]\n",
       "  \"b\" => [\"a\"]\n",
       "  \"a\" => [\"b\", \"c\"]\n",
       "  \"d\" => [\"b\"]"
      ]
     },
     "execution_count": 80,
     "metadata": {},
     "output_type": "execute_result"
    }
   ],
   "source": [
    "input=dummy"
   ]
  },
  {
   "cell_type": "code",
   "execution_count": 81,
   "id": "cbe78c07",
   "metadata": {},
   "outputs": [
    {
     "data": {
      "text/plain": [
       "naive_get_matrix (generic function with 1 method)"
      ]
     },
     "execution_count": 81,
     "metadata": {},
     "output_type": "execute_result"
    }
   ],
   "source": [
    "damping=0.85\n",
    "function naive_get_matrix(data)\n",
    "    n=length(dummy)\n",
    "    encodeNames=String[]\n",
    "    decodeNames=Dict{String, Int64}()\n",
    "    i=1\n",
    "    for (key, value) in data\n",
    "        push!(encodeNames, key)\n",
    "        push!(decodeNames, key=>i)\n",
    "        i=i+1\n",
    "    end\n",
    "    M=zeros(Float64, length(dummy), length(dummy))\n",
    "    for (from, list) in data \n",
    "        l=length(list)\n",
    "        if l>0 \n",
    "            M[decodeNames[from], decodeNames[from]]=1-damping\n",
    "            for to in list \n",
    "                M[decodeNames[to], decodeNames[from]]=damping/l\n",
    "            end\n",
    "        else\n",
    "            M[decodeNames[from], decodeNames[from]]=1\n",
    "        end\n",
    "    end\n",
    "    return (M, encodeNames, decodeNames)\n",
    "end"
   ]
  },
  {
   "cell_type": "code",
   "execution_count": 82,
   "id": "6445cfdc",
   "metadata": {},
   "outputs": [
    {
     "data": {
      "text/plain": [
       "sparse_get_matrix (generic function with 1 method)"
      ]
     },
     "execution_count": 82,
     "metadata": {},
     "output_type": "execute_result"
    }
   ],
   "source": [
    "damping=0.85\n",
    "function sparse_get_matrix(data)\n",
    "    n=length(dummy)\n",
    "    encodeNames=String[]\n",
    "    decodeNames=Dict{String, Int64}()\n",
    "    i=1\n",
    "    for (key, value) in data\n",
    "        push!(encodeNames, key)\n",
    "        push!(decodeNames, key=>i)\n",
    "        i=i+1\n",
    "    end\n",
    "    M=spzeros(Float64, length(dummy), length(dummy))\n",
    "    for (from, list) in data \n",
    "        l=length(list)\n",
    "        if l>0 \n",
    "            M[decodeNames[from], decodeNames[from]]=1-damping\n",
    "            for to in list \n",
    "                M[decodeNames[to], decodeNames[from]]=damping/l\n",
    "            end\n",
    "        else\n",
    "            M[decodeNames[from], decodeNames[from]]=1\n",
    "        end\n",
    "    end\n",
    "    return (M, encodeNames, decodeNames)\n",
    "end"
   ]
  },
  {
   "cell_type": "code",
   "execution_count": 83,
   "id": "1f96a002",
   "metadata": {},
   "outputs": [
    {
     "data": {
      "text/plain": [
       "([0.15000000000000002 0.0 0.425 0.0; 0.0 0.15000000000000002 0.425 0.85; 0.425 0.85 0.15000000000000002 0.0; 0.425 0.0 0.0 0.15000000000000002], [\"c\", \"b\", \"a\", \"d\"], Dict(\"c\" => 1, \"b\" => 2, \"a\" => 3, \"d\" => 4))"
      ]
     },
     "execution_count": 83,
     "metadata": {},
     "output_type": "execute_result"
    }
   ],
   "source": [
    "M, encode, decode=naive_get_matrix(input)"
   ]
  },
  {
   "cell_type": "code",
   "execution_count": 84,
   "id": "e9b2de93",
   "metadata": {},
   "outputs": [
    {
     "data": {
      "text/plain": [
       "4×4 Matrix{Float64}:\n",
       " 0.15   0.0   0.425  0.0\n",
       " 0.0    0.15  0.425  0.85\n",
       " 0.425  0.85  0.15   0.0\n",
       " 0.425  0.0   0.0    0.15"
      ]
     },
     "execution_count": 84,
     "metadata": {},
     "output_type": "execute_result"
    }
   ],
   "source": [
    "M"
   ]
  },
  {
   "cell_type": "code",
   "execution_count": 85,
   "id": "b8de026c",
   "metadata": {},
   "outputs": [
    {
     "data": {
      "text/plain": [
       "naive (generic function with 1 method)"
      ]
     },
     "execution_count": 85,
     "metadata": {},
     "output_type": "execute_result"
    }
   ],
   "source": [
    "function naive(input)\n",
    "    M, encode, decode = naive_get_matrix(input)\n",
    "    Λ, X=eigen(M)\n",
    "    n=size(Λ,1)\n",
    "    ranks=X[:, n]\n",
    "    ranks/=sum(ranks)\n",
    "    sites=map(r-> (encode[r[1]],Float64(r[2])), enumerate(ranks))\n",
    "    return sort(sites, by= x->x[2], rev=true)\n",
    "end"
   ]
  },
  {
   "cell_type": "code",
   "execution_count": 86,
   "id": "83561460",
   "metadata": {},
   "outputs": [
    {
     "data": {
      "text/plain": [
       "4-element Vector{Tuple{String, Float64}}:\n",
       " (\"a\", 0.39999999999999997)\n",
       " (\"b\", 0.30000000000000004)\n",
       " (\"c\", 0.19999999999999998)\n",
       " (\"d\", 0.10000000000000006)"
      ]
     },
     "execution_count": 86,
     "metadata": {},
     "output_type": "execute_result"
    }
   ],
   "source": [
    "r=naive(input)"
   ]
  },
  {
   "cell_type": "code",
   "execution_count": 87,
   "id": "16842c6e",
   "metadata": {},
   "outputs": [
    {
     "data": {
      "text/plain": [
       "iterative (generic function with 1 method)"
      ]
     },
     "execution_count": 87,
     "metadata": {},
     "output_type": "execute_result"
    }
   ],
   "source": [
    "function iterative(input, k)\n",
    "    M, encode, decode = naive_get_matrix(input)\n",
    "    n = size(M, 1)\n",
    "    v = ones(n)/n\n",
    "    for i in 1:k\n",
    "        v=M*v\n",
    "    end\n",
    "    v=map(r-> (encode[r[1]],Float64(r[2])), enumerate(v))\n",
    "    return sort(v, by= x->x[2], rev=true)\n",
    "end"
   ]
  },
  {
   "cell_type": "code",
   "execution_count": 88,
   "id": "48c62e80",
   "metadata": {},
   "outputs": [
    {
     "data": {
      "text/plain": [
       "4-element Vector{Tuple{String, Float64}}:\n",
       " (\"a\", 0.39999999999999936)\n",
       " (\"b\", 0.29999999999999777)\n",
       " (\"c\", 0.20000000000000218)\n",
       " (\"d\", 0.10000000000000053)"
      ]
     },
     "execution_count": 88,
     "metadata": {},
     "output_type": "execute_result"
    }
   ],
   "source": [
    "v=iterative(input, 40)"
   ]
  },
  {
   "cell_type": "code",
   "execution_count": 89,
   "id": "fa95e928",
   "metadata": {},
   "outputs": [
    {
     "data": {
      "text/plain": [
       "iterative_sparse (generic function with 1 method)"
      ]
     },
     "execution_count": 89,
     "metadata": {},
     "output_type": "execute_result"
    }
   ],
   "source": [
    "function iterative_sparse(input, k)\n",
    "    M, encode, decode = sparse_get_matrix(input)\n",
    "    n = size(M, 1)\n",
    "    v = ones(n)/n\n",
    "    for i in 1:k\n",
    "        v=M*v\n",
    "    end\n",
    "    v=map(r-> (encode[r[1]],Float64(r[2])), enumerate(v))\n",
    "    return sort(v, by= x->x[2], rev=true)\n",
    "end"
   ]
  },
  {
   "cell_type": "code",
   "execution_count": 90,
   "id": "02d62e7b",
   "metadata": {},
   "outputs": [
    {
     "data": {
      "text/plain": [
       "4-element Vector{Tuple{String, Float64}}:\n",
       " (\"a\", 0.39999999999999936)\n",
       " (\"b\", 0.29999999999999777)\n",
       " (\"c\", 0.20000000000000218)\n",
       " (\"d\", 0.10000000000000053)"
      ]
     },
     "execution_count": 90,
     "metadata": {},
     "output_type": "execute_result"
    }
   ],
   "source": [
    "v=iterative_sparse(input, 40)"
   ]
  },
  {
   "cell_type": "code",
   "execution_count": 91,
   "id": "a95ec5f4",
   "metadata": {},
   "outputs": [
    {
     "data": {
      "text/plain": [
       "(\n",
       " 0.15    ⋅    0.425   ⋅ \n",
       "  ⋅     0.15  0.425  0.85\n",
       " 0.425  0.85  0.15    ⋅ \n",
       " 0.425   ⋅     ⋅     0.15, [\"c\", \"b\", \"a\", \"d\"], Dict(\"c\" => 1, \"b\" => 2, \"a\" => 3, \"d\" => 4))"
      ]
     },
     "execution_count": 91,
     "metadata": {},
     "output_type": "execute_result"
    }
   ],
   "source": [
    "M, encode, decode = sparse_get_matrix(input)"
   ]
  },
  {
   "cell_type": "code",
   "execution_count": null,
   "id": "d833a352",
   "metadata": {},
   "outputs": [],
   "source": []
  }
 ],
 "metadata": {
  "kernelspec": {
   "display_name": "Julia 1.6.2",
   "language": "julia",
   "name": "julia-1.6"
  },
  "language_info": {
   "file_extension": ".jl",
   "mimetype": "application/julia",
   "name": "julia",
   "version": "1.6.2"
  }
 },
 "nbformat": 4,
 "nbformat_minor": 5
}
