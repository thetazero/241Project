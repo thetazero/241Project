{
 "cells": [
  {
   "cell_type": "code",
   "execution_count": 1,
   "id": "6e5318c5",
   "metadata": {},
   "outputs": [],
   "source": [
    "using LinearAlgebra, SparseArrays;\n",
    "using Latexify;"
   ]
  },
  {
   "cell_type": "code",
   "execution_count": 2,
   "id": "a356ad04",
   "metadata": {},
   "outputs": [
    {
     "data": {
      "text/plain": [
       "Dict{String, Array{String, N} where N} with 4 entries:\n",
       "  \"c\" => [\"a\", \"d\"]\n",
       "  \"b\" => [\"a\"]\n",
       "  \"a\" => [\"b\", \"c\"]\n",
       "  \"d\" => [\"b\"]"
      ]
     },
     "execution_count": 2,
     "metadata": {},
     "output_type": "execute_result"
    }
   ],
   "source": [
    "dummy = Dict{String, Array{String}}(\"a\"=>[\"b\",\"c\"], \"b\"=>[\"a\"], \"c\"=>[\"a\",\"d\"], \"d\"=>[\"b\"])"
   ]
  },
  {
   "cell_type": "code",
   "execution_count": 3,
   "id": "bd3db641",
   "metadata": {},
   "outputs": [
    {
     "data": {
      "text/plain": [
       "Dict{String, Array{String, N} where N} with 4 entries:\n",
       "  \"c\" => [\"a\", \"d\"]\n",
       "  \"b\" => [\"a\"]\n",
       "  \"a\" => [\"b\", \"c\"]\n",
       "  \"d\" => [\"b\"]"
      ]
     },
     "execution_count": 3,
     "metadata": {},
     "output_type": "execute_result"
    }
   ],
   "source": [
    "input=dummy"
   ]
  },
  {
   "cell_type": "code",
   "execution_count": 4,
   "id": "23d8c01c",
   "metadata": {},
   "outputs": [
    {
     "data": {
      "text/plain": [
       "naive_get_matrix (generic function with 1 method)"
      ]
     },
     "execution_count": 4,
     "metadata": {},
     "output_type": "execute_result"
    }
   ],
   "source": [
    "damping=0.85\n",
    "function naive_get_matrix(data)\n",
    "    n=length(dummy)\n",
    "    encodeNames=String[]\n",
    "    decodeNames=Dict{String, Int64}()\n",
    "    i=1\n",
    "    for (key, value) in data\n",
    "        push!(encodeNames, key)\n",
    "        push!(decodeNames, key=>i)\n",
    "        i=i+1\n",
    "    end\n",
    "    M=zeros(Float64, length(dummy), length(dummy))\n",
    "    for (from, list) in data \n",
    "        l=length(list)\n",
    "        for to in list \n",
    "            M[decodeNames[to], decodeNames[from]]=1/l\n",
    "        end\n",
    "        M[:,decodeNames[from]].*=damping\n",
    "        M[:,decodeNames[from]].+=(1-damping)/n\n",
    "    end\n",
    "    return (M, encodeNames, decodeNames)\n",
    "end"
   ]
  },
  {
   "cell_type": "code",
   "execution_count": 5,
   "id": "234e6f85",
   "metadata": {},
   "outputs": [
    {
     "data": {
      "text/plain": [
       "naive (generic function with 1 method)"
      ]
     },
     "execution_count": 5,
     "metadata": {},
     "output_type": "execute_result"
    }
   ],
   "source": [
    "function naive(input)\n",
    "    M, encode, decode = naive_get_matrix(input)\n",
    "    Λ, X=eigen(M)\n",
    "    n=size(Λ,1)\n",
    "    ranks=X[:, n]\n",
    "    ranks/=sum(ranks)\n",
    "    sites=map(r-> (encode[r[1]],Float64(r[2])), enumerate(ranks))\n",
    "    return sort(sites, by= x->x[2], rev=true)\n",
    "end"
   ]
  },
  {
   "cell_type": "code",
   "execution_count": 6,
   "id": "b38c4432",
   "metadata": {},
   "outputs": [
    {
     "data": {
      "text/plain": [
       "4-element Vector{Tuple{String, Float64}}:\n",
       " (\"a\", 0.37824245632609843)\n",
       " (\"b\", 0.30174695606140833)\n",
       " (\"c\", 0.1982530439385918)\n",
       " (\"d\", 0.12175754367390147)"
      ]
     },
     "execution_count": 6,
     "metadata": {},
     "output_type": "execute_result"
    }
   ],
   "source": [
    "r=naive(input)"
   ]
  },
  {
   "cell_type": "code",
   "execution_count": null,
   "id": "5f3860e7",
   "metadata": {},
   "outputs": [],
   "source": []
  }
 ],
 "metadata": {
  "kernelspec": {
   "display_name": "Julia 1.6.2",
   "language": "julia",
   "name": "julia-1.6"
  },
  "language_info": {
   "file_extension": ".jl",
   "mimetype": "application/julia",
   "name": "julia",
   "version": "1.6.2"
  }
 },
 "nbformat": 4,
 "nbformat_minor": 5
}
