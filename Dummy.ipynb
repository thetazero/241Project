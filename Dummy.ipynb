{
 "cells": [
  {
   "cell_type": "code",
   "execution_count": 87,
   "id": "3ba3f333",
   "metadata": {},
   "outputs": [],
   "source": [
    "using LinearAlgebra;"
   ]
  },
  {
   "cell_type": "code",
   "execution_count": 16,
   "id": "682df658",
   "metadata": {},
   "outputs": [
    {
     "data": {
      "text/plain": [
       "Dict{String, Array{String, N} where N} with 4 entries:\n",
       "  \"c\" => [\"a\", \"d\"]\n",
       "  \"b\" => [\"a\"]\n",
       "  \"a\" => [\"b\", \"c\"]\n",
       "  \"d\" => [\"b\"]"
      ]
     },
     "execution_count": 16,
     "metadata": {},
     "output_type": "execute_result"
    }
   ],
   "source": [
    "dummy = Dict{String, Array{String}}(\"a\"=>[\"b\",\"c\"], \"b\"=>[\"a\"], \"c\"=>[\"a\",\"d\"], \"d\"=>[\"b\"])"
   ]
  },
  {
   "cell_type": "code",
   "execution_count": 17,
   "id": "bb3cce88",
   "metadata": {},
   "outputs": [
    {
     "data": {
      "text/plain": [
       "Dict{String, Array{String, N} where N} with 4 entries:\n",
       "  \"c\" => [\"a\", \"d\"]\n",
       "  \"b\" => [\"a\"]\n",
       "  \"a\" => [\"b\", \"c\"]\n",
       "  \"d\" => [\"b\"]"
      ]
     },
     "execution_count": 17,
     "metadata": {},
     "output_type": "execute_result"
    }
   ],
   "source": [
    "input=dummy"
   ]
  },
  {
   "cell_type": "code",
   "execution_count": 84,
   "id": "eeebcd77",
   "metadata": {},
   "outputs": [
    {
     "data": {
      "text/plain": [
       "naive_get_matrix (generic function with 1 method)"
      ]
     },
     "execution_count": 84,
     "metadata": {},
     "output_type": "execute_result"
    }
   ],
   "source": [
    "function naive_get_matrix(data)\n",
    "    n=length(dummy)\n",
    "    encodeNames=String[]\n",
    "    decodeNames=Dict{String, Int64}()\n",
    "    i=1\n",
    "    for (key, value) in data\n",
    "        push!(encodeNames, key)\n",
    "        push!(decodeNames, key=>i)\n",
    "        i=i+1\n",
    "    end\n",
    "    M=zeros(Float64, length(dummy), length(dummy))\n",
    "    for (from, list) in data \n",
    "        l=length(list)\n",
    "        for to in list \n",
    "            M[decodeNames[to], decodeNames[from]]=1/l\n",
    "        end\n",
    "    end\n",
    "    return (M, encodeNames, decodeNames)\n",
    "end"
   ]
  },
  {
   "cell_type": "code",
   "execution_count": 85,
   "id": "91db18b4",
   "metadata": {},
   "outputs": [
    {
     "data": {
      "text/plain": [
       "([0.0 0.0 0.5 0.0; 0.0 0.0 0.5 1.0; 0.5 1.0 0.0 0.0; 0.5 0.0 0.0 0.0], [\"c\", \"b\", \"a\", \"d\"], Dict(\"c\" => 1, \"b\" => 2, \"a\" => 3, \"d\" => 4))"
      ]
     },
     "execution_count": 85,
     "metadata": {},
     "output_type": "execute_result"
    }
   ],
   "source": [
    "M, encode, decode=naive_get_matrix(input)"
   ]
  },
  {
   "cell_type": "code",
   "execution_count": 180,
   "id": "43185ce6",
   "metadata": {},
   "outputs": [
    {
     "data": {
      "text/plain": [
       "naive (generic function with 1 method)"
      ]
     },
     "execution_count": 180,
     "metadata": {},
     "output_type": "execute_result"
    }
   ],
   "source": [
    "function naive(input)\n",
    "    M, encode, decode = naive_get_matrix(input)\n",
    "    Λ, X=eigen(M)\n",
    "    n=size(Λ,1)\n",
    "    ranks=X[:, n]\n",
    "    return map(r-> (encode[r[1]],r[2]), enumerate(ranks))\n",
    "end"
   ]
  },
  {
   "cell_type": "code",
   "execution_count": 181,
   "id": "fc55dc17",
   "metadata": {},
   "outputs": [
    {
     "data": {
      "text/plain": [
       "4-element Vector{Tuple{Int64, ComplexF64}}:\n",
       " (1, 0.36514837167011077 + 0.0im)\n",
       " (2, 0.547722557505166 + 0.0im)\n",
       " (3, 0.7302967433402215 + 0.0im)\n",
       " (4, 0.18257418583505547 + 0.0im)"
      ]
     },
     "execution_count": 181,
     "metadata": {},
     "output_type": "execute_result"
    }
   ],
   "source": [
    "r=naive(input)"
   ]
  },
  {
   "cell_type": "code",
   "execution_count": 177,
   "id": "30803255",
   "metadata": {},
   "outputs": [
    {
     "data": {
      "text/plain": [
       "(0.36514837167011077 + 0.0im, (1, 0.36514837167011077 + 0.0im))"
      ]
     },
     "execution_count": 177,
     "metadata": {},
     "output_type": "execute_result"
    }
   ],
   "source": [
    "r[1]"
   ]
  },
  {
   "cell_type": "code",
   "execution_count": null,
   "id": "ae2a8c42",
   "metadata": {},
   "outputs": [],
   "source": []
  }
 ],
 "metadata": {
  "kernelspec": {
   "display_name": "Julia 1.6.2",
   "language": "julia",
   "name": "julia-1.6"
  },
  "language_info": {
   "file_extension": ".jl",
   "mimetype": "application/julia",
   "name": "julia",
   "version": "1.6.2"
  }
 },
 "nbformat": 4,
 "nbformat_minor": 5
}
