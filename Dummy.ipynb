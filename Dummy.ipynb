{
 "cells": [
  {
   "cell_type": "code",
   "execution_count": 200,
   "id": "94072860",
   "metadata": {},
   "outputs": [],
   "source": [
    "using LinearAlgebra;"
   ]
  },
  {
   "cell_type": "code",
   "execution_count": 201,
   "id": "820a40fe",
   "metadata": {},
   "outputs": [
    {
     "data": {
      "text/plain": [
       "Dict{String, Array{String, N} where N} with 5 entries:\n",
       "  \"c\" => [\"a\", \"d\"]\n",
       "  \"e\" => []\n",
       "  \"b\" => [\"a\"]\n",
       "  \"a\" => [\"b\", \"c\"]\n",
       "  \"d\" => [\"b\"]"
      ]
     },
     "execution_count": 201,
     "metadata": {},
     "output_type": "execute_result"
    }
   ],
   "source": [
    "dummy = Dict{String, Array{String}}(\"a\"=>[\"b\",\"c\"], \"b\"=>[\"a\"], \"c\"=>[\"a\",\"d\"], \"d\"=>[\"b\"], \"e\"=>[])"
   ]
  },
  {
   "cell_type": "code",
   "execution_count": 202,
   "id": "f9f39f79",
   "metadata": {},
   "outputs": [
    {
     "data": {
      "text/plain": [
       "Dict{String, Array{String, N} where N} with 5 entries:\n",
       "  \"c\" => [\"a\", \"d\"]\n",
       "  \"e\" => []\n",
       "  \"b\" => [\"a\"]\n",
       "  \"a\" => [\"b\", \"c\"]\n",
       "  \"d\" => [\"b\"]"
      ]
     },
     "execution_count": 202,
     "metadata": {},
     "output_type": "execute_result"
    }
   ],
   "source": [
    "input=dummy"
   ]
  },
  {
   "cell_type": "code",
   "execution_count": 203,
   "id": "cbe78c07",
   "metadata": {},
   "outputs": [
    {
     "data": {
      "text/plain": [
       "naive_get_matrix (generic function with 1 method)"
      ]
     },
     "execution_count": 203,
     "metadata": {},
     "output_type": "execute_result"
    }
   ],
   "source": [
    "damping=0.85\n",
    "function naive_get_matrix(data)\n",
    "    n=length(dummy)\n",
    "    encodeNames=String[]\n",
    "    decodeNames=Dict{String, Int64}()\n",
    "    i=1\n",
    "    for (key, value) in data\n",
    "        push!(encodeNames, key)\n",
    "        push!(decodeNames, key=>i)\n",
    "        i=i+1\n",
    "    end\n",
    "    M=zeros(Float64, length(dummy), length(dummy))\n",
    "    for (from, list) in data \n",
    "        l=length(list)\n",
    "        if l>0 \n",
    "            M[decodeNames[from], decodeNames[from]]=1-damping\n",
    "            for to in list \n",
    "                M[decodeNames[to], decodeNames[from]]=damping/l\n",
    "            end\n",
    "        else\n",
    "            M[decodeNames[from], decodeNames[from]]=1\n",
    "        end\n",
    "    end\n",
    "    return (M, encodeNames, decodeNames)\n",
    "end"
   ]
  },
  {
   "cell_type": "code",
   "execution_count": 204,
   "id": "1f96a002",
   "metadata": {},
   "outputs": [
    {
     "data": {
      "text/plain": [
       "([0.15000000000000002 0.0 … 0.425 0.0; 0.0 1.0 … 0.0 0.0; … ; 0.425 0.0 … 0.15000000000000002 0.0; 0.425 0.0 … 0.0 0.15000000000000002], [\"c\", \"e\", \"b\", \"a\", \"d\"], Dict(\"c\" => 1, \"e\" => 2, \"b\" => 3, \"a\" => 4, \"d\" => 5))"
      ]
     },
     "execution_count": 204,
     "metadata": {},
     "output_type": "execute_result"
    }
   ],
   "source": [
    "M, encode, decode=naive_get_matrix(input)"
   ]
  },
  {
   "cell_type": "code",
   "execution_count": 205,
   "id": "e9b2de93",
   "metadata": {},
   "outputs": [
    {
     "data": {
      "text/plain": [
       "5×5 Matrix{Float64}:\n",
       " 0.15   0.0  0.0   0.425  0.0\n",
       " 0.0    1.0  0.0   0.0    0.0\n",
       " 0.0    0.0  0.15  0.425  0.85\n",
       " 0.425  0.0  0.85  0.15   0.0\n",
       " 0.425  0.0  0.0   0.0    0.15"
      ]
     },
     "execution_count": 205,
     "metadata": {},
     "output_type": "execute_result"
    }
   ],
   "source": [
    "M"
   ]
  },
  {
   "cell_type": "code",
   "execution_count": 206,
   "id": "b8de026c",
   "metadata": {},
   "outputs": [
    {
     "data": {
      "text/plain": [
       "naive (generic function with 1 method)"
      ]
     },
     "execution_count": 206,
     "metadata": {},
     "output_type": "execute_result"
    }
   ],
   "source": [
    "function naive(input)\n",
    "    M, encode, decode = naive_get_matrix(input)\n",
    "    Λ, X=eigen(M)\n",
    "    n=size(Λ,1)\n",
    "    ranks=X[:, n]\n",
    "    sites=map(r-> (encode[r[1]],Float64(r[2])), enumerate(ranks))\n",
    "    return sort(sites, by= x->x[2], rev=true)\n",
    "end"
   ]
  },
  {
   "cell_type": "code",
   "execution_count": 207,
   "id": "83561460",
   "metadata": {},
   "outputs": [
    {
     "data": {
      "text/plain": [
       "5-element Vector{Tuple{String, Float64}}:\n",
       " (\"a\", 0.7302967433402213)\n",
       " (\"b\", 0.5477225575051661)\n",
       " (\"c\", 0.3651483716701108)\n",
       " (\"d\", 0.1825741858350554)\n",
       " (\"e\", 0.0)"
      ]
     },
     "execution_count": 207,
     "metadata": {},
     "output_type": "execute_result"
    }
   ],
   "source": [
    "r=naive(input)"
   ]
  },
  {
   "cell_type": "code",
   "execution_count": null,
   "id": "16842c6e",
   "metadata": {},
   "outputs": [],
   "source": []
  }
 ],
 "metadata": {
  "kernelspec": {
   "display_name": "Julia 1.6.2",
   "language": "julia",
   "name": "julia-1.6"
  },
  "language_info": {
   "file_extension": ".jl",
   "mimetype": "application/julia",
   "name": "julia",
   "version": "1.6.2"
  }
 },
 "nbformat": 4,
 "nbformat_minor": 5
}
