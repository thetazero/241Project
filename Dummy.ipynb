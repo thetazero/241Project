{
 "cells": [
  {
   "cell_type": "code",
   "execution_count": 192,
   "id": "47c5316e",
   "metadata": {},
   "outputs": [],
   "source": [
    "using LinearAlgebra;"
   ]
  },
  {
   "cell_type": "code",
   "execution_count": 193,
   "id": "f6a09d5d",
   "metadata": {},
   "outputs": [
    {
     "data": {
      "text/plain": [
       "Dict{String, Array{String, N} where N} with 4 entries:\n",
       "  \"c\" => [\"a\", \"d\"]\n",
       "  \"b\" => [\"a\"]\n",
       "  \"a\" => [\"b\", \"c\"]\n",
       "  \"d\" => [\"b\"]"
      ]
     },
     "execution_count": 193,
     "metadata": {},
     "output_type": "execute_result"
    }
   ],
   "source": [
    "dummy = Dict{String, Array{String}}(\"a\"=>[\"b\",\"c\"], \"b\"=>[\"a\"], \"c\"=>[\"a\",\"d\"], \"d\"=>[\"b\"])"
   ]
  },
  {
   "cell_type": "code",
   "execution_count": 194,
   "id": "31be3aa3",
   "metadata": {},
   "outputs": [
    {
     "data": {
      "text/plain": [
       "Dict{String, Array{String, N} where N} with 4 entries:\n",
       "  \"c\" => [\"a\", \"d\"]\n",
       "  \"b\" => [\"a\"]\n",
       "  \"a\" => [\"b\", \"c\"]\n",
       "  \"d\" => [\"b\"]"
      ]
     },
     "execution_count": 194,
     "metadata": {},
     "output_type": "execute_result"
    }
   ],
   "source": [
    "input=dummy"
   ]
  },
  {
   "cell_type": "code",
   "execution_count": 195,
   "id": "9b98864b",
   "metadata": {},
   "outputs": [
    {
     "data": {
      "text/plain": [
       "naive_get_matrix (generic function with 1 method)"
      ]
     },
     "execution_count": 195,
     "metadata": {},
     "output_type": "execute_result"
    }
   ],
   "source": [
    "function naive_get_matrix(data)\n",
    "    n=length(dummy)\n",
    "    encodeNames=String[]\n",
    "    decodeNames=Dict{String, Int64}()\n",
    "    i=1\n",
    "    for (key, value) in data\n",
    "        push!(encodeNames, key)\n",
    "        push!(decodeNames, key=>i)\n",
    "        i=i+1\n",
    "    end\n",
    "    M=zeros(Float64, length(dummy), length(dummy))\n",
    "    for (from, list) in data \n",
    "        l=length(list)\n",
    "        for to in list \n",
    "            M[decodeNames[to], decodeNames[from]]=1/l\n",
    "        end\n",
    "    end\n",
    "    return (M, encodeNames, decodeNames)\n",
    "end"
   ]
  },
  {
   "cell_type": "code",
   "execution_count": 196,
   "id": "2d78c3d2",
   "metadata": {},
   "outputs": [
    {
     "data": {
      "text/plain": [
       "([0.0 0.0 0.5 0.0; 0.0 0.0 0.5 1.0; 0.5 1.0 0.0 0.0; 0.5 0.0 0.0 0.0], [\"c\", \"b\", \"a\", \"d\"], Dict(\"c\" => 1, \"b\" => 2, \"a\" => 3, \"d\" => 4))"
      ]
     },
     "execution_count": 196,
     "metadata": {},
     "output_type": "execute_result"
    }
   ],
   "source": [
    "M, encode, decode=naive_get_matrix(input)"
   ]
  },
  {
   "cell_type": "code",
   "execution_count": 197,
   "id": "7ceba73d",
   "metadata": {},
   "outputs": [
    {
     "data": {
      "text/plain": [
       "naive (generic function with 1 method)"
      ]
     },
     "execution_count": 197,
     "metadata": {},
     "output_type": "execute_result"
    }
   ],
   "source": [
    "function naive(input)\n",
    "    M, encode, decode = naive_get_matrix(input)\n",
    "    Λ, X=eigen(M)\n",
    "    n=size(Λ,1)\n",
    "    ranks=X[:, n]\n",
    "    sites=map(r-> (encode[r[1]],Float64(r[2])), enumerate(ranks))\n",
    "    return sort(sites, by= x->x[2], rev=true)\n",
    "end"
   ]
  },
  {
   "cell_type": "code",
   "execution_count": 198,
   "id": "6cf8a32f",
   "metadata": {},
   "outputs": [
    {
     "data": {
      "text/plain": [
       "4-element Vector{Tuple{String, Float64}}:\n",
       " (\"a\", 0.7302967433402215)\n",
       " (\"b\", 0.547722557505166)\n",
       " (\"c\", 0.36514837167011077)\n",
       " (\"d\", 0.18257418583505547)"
      ]
     },
     "execution_count": 198,
     "metadata": {},
     "output_type": "execute_result"
    }
   ],
   "source": [
    "r=naive(input)"
   ]
  },
  {
   "cell_type": "code",
   "execution_count": null,
   "id": "30fe8767",
   "metadata": {},
   "outputs": [],
   "source": []
  }
 ],
 "metadata": {
  "kernelspec": {
   "display_name": "Julia 1.6.2",
   "language": "julia",
   "name": "julia-1.6"
  },
  "language_info": {
   "file_extension": ".jl",
   "mimetype": "application/julia",
   "name": "julia",
   "version": "1.6.2"
  }
 },
 "nbformat": 4,
 "nbformat_minor": 5
}
